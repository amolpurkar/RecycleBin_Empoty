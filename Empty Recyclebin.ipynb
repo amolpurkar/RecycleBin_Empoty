{
 "cells": [
  {
   "cell_type": "code",
   "execution_count": 1,
   "id": "547a8c20",
   "metadata": {},
   "outputs": [],
   "source": [
    "import ctypes\n",
    "\n",
    "def empty_recycle_bin():\n",
    "    SHEmptyRecycleBin = ctypes.windll.shell32.SHEmptyRecycleBinW\n",
    "    SHEmptyRecycleBin(None, None, 0)\n",
    "\n",
    "empty_recycle_bin()\n"
   ]
  },
  {
   "cell_type": "code",
   "execution_count": null,
   "id": "6196cf3f",
   "metadata": {},
   "outputs": [],
   "source": []
  }
 ],
 "metadata": {
  "kernelspec": {
   "display_name": "Python 3 (ipykernel)",
   "language": "python",
   "name": "python3"
  },
  "language_info": {
   "codemirror_mode": {
    "name": "ipython",
    "version": 3
   },
   "file_extension": ".py",
   "mimetype": "text/x-python",
   "name": "python",
   "nbconvert_exporter": "python",
   "pygments_lexer": "ipython3",
   "version": "3.11.7"
  }
 },
 "nbformat": 4,
 "nbformat_minor": 5
}
